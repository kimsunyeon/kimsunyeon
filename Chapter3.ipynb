{
  "nbformat": 4,
  "nbformat_minor": 0,
  "metadata": {
    "colab": {
      "name": "Untitled7.ipynb",
      "provenance": [],
      "authorship_tag": "ABX9TyObMWVgyFeeh2njt4H0ARbE",
      "include_colab_link": true
    },
    "kernelspec": {
      "name": "python3",
      "display_name": "Python 3"
    },
    "language_info": {
      "name": "python"
    }
  },
  "cells": [
    {
      "cell_type": "markdown",
      "metadata": {
        "id": "view-in-github",
        "colab_type": "text"
      },
      "source": [
        "<a href=\"https://colab.research.google.com/github/kimsunyeon/kimsunyeon/blob/main/Chapter3.ipynb\" target=\"_parent\"><img src=\"https://colab.research.google.com/assets/colab-badge.svg\" alt=\"Open In Colab\"/></a>"
      ]
    },
    {
      "cell_type": "code",
      "metadata": {
        "colab": {
          "base_uri": "https://localhost:8080/"
        },
        "id": "qQFFa5y4HpXQ",
        "outputId": "34aa811b-1923-44ab-f034-a84975044f40"
      },
      "source": [
        "x = int(input(\"x: \"))\n",
        "y = int(input(\"y: \"))\n",
        "\n",
        "print(\"두수의 합: \", x+y)\n",
        "print(\"두수의 차: \", x-y)\n",
        "print(\"두수의 곱: \", x*y)\n",
        "print(\"두수의 평균: \", (x+y)/2)\n",
        "print(\"큰수 : \", max(x,y))\n",
        "print(\"작은수: \", min(x,y))"
      ],
      "execution_count": 1,
      "outputs": [
        {
          "output_type": "stream",
          "name": "stdout",
          "text": [
            "x: 3\n",
            "y: 7\n",
            "두수의 합:  10\n",
            "두수의 차:  -4\n",
            "두수의 곱:  21\n",
            "두수의 평균:  5.0\n",
            "큰수 :  7\n",
            "작은수:  3\n"
          ]
        }
      ]
    },
    {
      "cell_type": "code",
      "metadata": {
        "colab": {
          "base_uri": "https://localhost:8080/"
        },
        "id": "w_jnA29wJ3Jo",
        "outputId": "7e852bfc-36c2-4549-d435-acd476afc5c5"
      },
      "source": [
        "r = float(input(\"r: \"))\n",
        "h = float(input(\"h: \"))\n",
        "\n",
        "vol = 3.141592*r**2*h\n",
        "print(\"원기둥의 부피: \", vol)"
      ],
      "execution_count": 2,
      "outputs": [
        {
          "output_type": "stream",
          "name": "stdout",
          "text": [
            "r: 5\n",
            "h: 8\n",
            "원기둥의 부피:  628.3184\n"
          ]
        }
      ]
    },
    {
      "cell_type": "code",
      "metadata": {
        "colab": {
          "base_uri": "https://localhost:8080/"
        },
        "id": "__klzlJTKOco",
        "outputId": "af053fe1-9432-4ece-aebb-212968391aa0"
      },
      "source": [
        "number = int(input(\"정수를 입력하시오: \"))\n",
        "\n",
        "sum = 0\n",
        "sum = sum + number % 10\n",
        "number = number // 10\n",
        "sum = sum + number % 10\n",
        "number = number // 10\n",
        "sum = sum + number % 10\n",
        "number = number // 10\n",
        "sum = sum + number % 10\n",
        "number = number // 10\n",
        "print(\"자리수의 합: \", str(sum))"
      ],
      "execution_count": 3,
      "outputs": [
        {
          "output_type": "stream",
          "name": "stdout",
          "text": [
            "정수를 입력하시오: 10\n",
            "자리수의 합:  1\n"
          ]
        }
      ]
    },
    {
      "cell_type": "code",
      "metadata": {
        "colab": {
          "base_uri": "https://localhost:8080/"
        },
        "id": "jhj0TM8rK2-L",
        "outputId": "840d0829-a1ce-48a4-9485-3374c541045d"
      },
      "source": [
        "x1 = int(input(\"x1: \"))\n",
        "y1 = int(input(\"y1: \"))\n",
        "x2 = int(input(\"x2: \"))\n",
        "y2 = int(input(\"y2: \"))\n",
        "dist = ( (x2 - x1)**2 + (y2 - y1)**2 )**0.5\n",
        "print(\"두점 사이의 거리=\", dist)"
      ],
      "execution_count": 4,
      "outputs": [
        {
          "output_type": "stream",
          "name": "stdout",
          "text": [
            "x1: 2\n",
            "y1: 4\n",
            "x2: 8\n",
            "y2: 12\n",
            "두점 사이의 거리= 10.0\n"
          ]
        }
      ]
    },
    {
      "cell_type": "code",
      "metadata": {
        "colab": {
          "base_uri": "https://localhost:8080/"
        },
        "id": "zhrseGMGLaSS",
        "outputId": "90aa6f7c-7c4f-4275-f736-dd2a07e0c7ae"
      },
      "source": [
        "import time\n",
        "\n",
        "fseconds = time.time()\n",
        "total_sec = int(fseconds)\n",
        "total_min = total_sec // 60\n",
        "minute = total_min % 60\n",
        "total_hour = total_min // 60\n",
        "hour = total_hour % 24\n",
        "\n",
        "print(\"현재 시간(영국 그리니치 시각): \" + str(hour) + \"시\" + str(minute) + \"분\")"
      ],
      "execution_count": 6,
      "outputs": [
        {
          "output_type": "stream",
          "name": "stdout",
          "text": [
            "현재 시간(영국 그리니치 시각): 7시26분\n"
          ]
        }
      ]
    },
    {
      "cell_type": "code",
      "metadata": {
        "colab": {
          "base_uri": "https://localhost:8080/"
        },
        "id": "x2PldkBRMGvD",
        "outputId": "01195455-a854-425a-8bab-540eea3ceb46"
      },
      "source": [
        "mass = float(input(\"물체의 무게를 입력하시오(킬로그램): \"))\n",
        "velocity = float(input(\"물체의 속도를 입력하시오(미터/초): \"))\n",
        "\n",
        "energy = 0.5 * mass * velocity **2\n",
        "print(\"물체는 \" + str(energy) + \" (줄)의 에너지를 가지고 있다.\")"
      ],
      "execution_count": 7,
      "outputs": [
        {
          "output_type": "stream",
          "name": "stdout",
          "text": [
            "물체의 무게를 입력하시오(킬로그램): 48\n",
            "물체의 속도를 입력하시오(미터/초): 30\n",
            "물체는 21600.0 (줄)의 에너지를 가지고 있다.\n"
          ]
        }
      ]
    },
    {
      "cell_type": "code",
      "metadata": {
        "colab": {
          "base_uri": "https://localhost:8080/"
        },
        "id": "QlmX9YTUMonz",
        "outputId": "b7d51dad-2a91-4684-f4d5-4cf052bd23e4"
      },
      "source": [
        "total = 10000 #총 재료비용\n",
        "americano_price = 2000\n",
        "cafelatte_price = 3000\n",
        "capucino_price = 3500\n",
        "\n",
        "americanos = int(input(\"아메리카노 판매 개수: \"))\n",
        "cafelattes = int(input(\"카페라떼 판매 개수: \"))\n",
        "capucinos = int(input(\"카푸치노 판매 개수: \"))\n",
        "\n",
        "sales = americano_price\n",
        "sales = sales + cafelattes * cafelatte_price\n",
        "sales = sales + capucinos * capucino_price\n",
        "print(\"총 매출은\", sales, \"입니다.\")\n",
        "\n",
        "if(total<sales) : print(\"흑자입니다.\")\n",
        "else : print(\"적자입니다.\")"
      ],
      "execution_count": 8,
      "outputs": [
        {
          "output_type": "stream",
          "name": "stdout",
          "text": [
            "아메리카노 판매 개수: 15\n",
            "카페라떼 판매 개수: 8\n",
            "카푸치노 판매 개수: 6\n",
            "총 매출은 47000 입니다.\n",
            "흑자입니다.\n"
          ]
        }
      ]
    },
    {
      "cell_type": "code",
      "metadata": {
        "colab": {
          "base_uri": "https://localhost:8080/"
        },
        "id": "BtyDqgQyNuvy",
        "outputId": "ce64b609-22b1-40f1-d19e-7192a2c6cfa9"
      },
      "source": [
        "ctemp = int(input(\"섭씨온도: \"))\n",
        "ftemp = 9/5*ctemp+32\n",
        "print(\"화씨온도: \", ftemp)"
      ],
      "execution_count": 9,
      "outputs": [
        {
          "output_type": "stream",
          "name": "stdout",
          "text": [
            "섭씨온도: 39\n",
            "화씨온도:  102.2\n"
          ]
        }
      ]
    },
    {
      "cell_type": "code",
      "metadata": {
        "colab": {
          "base_uri": "https://localhost:8080/"
        },
        "id": "xVFEHp5gOBvp",
        "outputId": "e22e5676-e34e-4344-f0b7-5f533bf2ccc7"
      },
      "source": [
        "money = int(input(\"투입한 돈: \"))\n",
        "price = int(input(\"물건 값: \"))\n",
        "\n",
        "change = money - price\n",
        "print(\"거스름돈: \", change)\n",
        "coin500s = change // 500 #500으로 나누어서 몫이 500원짜리의 개수\n",
        "change = change % 500 #500으로 나눈 나머지를 계산한다.\n",
        "coin100s = change // 100 #100으로 나누어서 몫이 100원짜리의 개수\n",
        "change = change % 100 #100으로 나눈 나머지를 계산한다.\n",
        "coin50s = change // 50 #50으로 나누어서 몫이 500원짜리의 개수\n",
        "change = change% 50 #50으로 나눈 나머지를 계산한다.\n",
        "coin10s = change // 10 #10으로 나누어서 몫이 500원짜리의 개수\n",
        "change = change % 10 #10으로 나눈 나머지를 계산한다.\n",
        "print(\"500원 동전의 개수: \", coin500s)\n",
        "print(\"100원 동전의 개수: \", coin100s)\n",
        "print(\"50원 동전의 개수: \", coin50s)\n",
        "print(\"10원 동전의 개수: \", coin10s)"
      ],
      "execution_count": 11,
      "outputs": [
        {
          "output_type": "stream",
          "name": "stdout",
          "text": [
            "투입한 돈: 10000\n",
            "물건 값: 6300\n",
            "거스름돈:  3700\n",
            "500원 동전의 개수:  7\n",
            "100원 동전의 개수:  2\n",
            "50원 동전의 개수:  0\n",
            "10원 동전의 개수:  0\n"
          ]
        }
      ]
    },
    {
      "cell_type": "code",
      "metadata": {
        "colab": {
          "base_uri": "https://localhost:8080/"
        },
        "id": "BWx9SMIaPqH_",
        "outputId": "22a14f87-ca52-401c-c727-c28348aff0bf"
      },
      "source": [
        "#사용자로부터 투입한 금액과 물건 값을 입력받는다.\n",
        "money = int(input(\"투입한 돈: \"))\n",
        "price = int(input(\"물건 값: \"))\n",
        "\n",
        "change = money - price #거스름돈을 계산한다\n",
        "coin500s = change // 500 #500으로 나누어서 몫이 500원짜리의 개수이다.\n",
        "change = change % 500 #500으로 나눈 나머지를 계산한다.\n",
        "coin100s = change // 100 #100으로 나누어서 몫이 100원짜리의 개수이다.\n",
        "print(\"500원 동전의 개수: \", coin500s) #거슬러줄 500원짜리의 개수를 출력한다.\n",
        "print(\"100원 동전의 개수: \", coin100s) #거슬러줄 100원짜리의 개수를 출력한다."
      ],
      "execution_count": 12,
      "outputs": [
        {
          "output_type": "stream",
          "name": "stdout",
          "text": [
            "투입한 돈: 5000\n",
            "물건 값: 2800\n",
            "500원 동전의 개수:  4\n",
            "100원 동전의 개수:  2\n"
          ]
        }
      ]
    }
  ]
}