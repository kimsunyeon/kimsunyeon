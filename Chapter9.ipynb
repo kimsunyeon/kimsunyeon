{
  "nbformat": 4,
  "nbformat_minor": 0,
  "metadata": {
    "colab": {
      "name": "Untitled12.ipynb",
      "provenance": [],
      "authorship_tag": "ABX9TyN9UtIzFGALB6/eo2n4vR2n",
      "include_colab_link": true
    },
    "kernelspec": {
      "name": "python3",
      "display_name": "Python 3"
    },
    "language_info": {
      "name": "python"
    }
  },
  "cells": [
    {
      "cell_type": "markdown",
      "metadata": {
        "id": "view-in-github",
        "colab_type": "text"
      },
      "source": [
        "<a href=\"https://colab.research.google.com/github/kimsunyeon/kimsunyeon/blob/main/Chapter9.ipynb\" target=\"_parent\"><img src=\"https://colab.research.google.com/assets/colab-badge.svg\" alt=\"Open In Colab\"/></a>"
      ]
    },
    {
      "cell_type": "code",
      "execution_count": 7,
      "metadata": {
        "colab": {
          "base_uri": "https://localhost:8080/"
        },
        "id": "C2-JujjKZKCR",
        "outputId": "a4687bf9-7a94-4db0-f344-fa876d75ba0e"
      },
      "outputs": [
        {
          "output_type": "stream",
          "name": "stdout",
          "text": [
            "###########################\n",
            "# 오늘의 산수 문제 #\n",
            "###########################\n",
            "\n",
            "8 * 9\n"
          ]
        }
      ],
      "source": [
        "import random\n",
        "\n",
        "question = [\"56 / 8\", \"8 * 9\", \"50 - 25\", \"1 + 6\", \"81 / 9\", \"22 + 10\", \"8 / 4\", \"9 * 7\", \"17 - 4\", \"3 + 5\"]\n",
        "dailyQuestion = random.choice(question)\n",
        "print(\"###########################\")\n",
        "print(\"# 오늘의 산수 문제 #\")\n",
        "print(\"###########################\")\n",
        "print(\"\")\n",
        "print(dailyQuestion)"
      ]
    },
    {
      "cell_type": "code",
      "source": [
        "items = {\"커피음료\": 7, \"펜\": 3, \"종이컵\": 2, \"우유\": 1, \"콜라\": 4, \"책\": 5}\n",
        "\n",
        "while True:\n",
        "  print(\"\")\n",
        "  print(\"# 재고 목록 #\")\n",
        "  for key in sorted(items.keys()):\n",
        "    print(key, items[key])\n",
        "\n",
        "  print(\"＼n*********************\")\n",
        "  print(\"0. 종료\")\n",
        "  print(\"1. 재고 추가\")\n",
        "  print(\"2. 재고 삭제\")\n",
        "  print(\"**********************＼n\")\n",
        "  a = int(input(\"무엇을 하시겠습니까?: \"))\n",
        "\n",
        "  if a == 1:\n",
        "    item = input(\"물건의 이름을 입력하시오: \")\n",
        "    num = input(\"몇개를 추가하시겠습니까?: \")\n",
        "    items[item] = int(item[item]) + int(num)\n",
        "\n",
        "  elif a == 2:\n",
        "    item = input(\"물건의 이름을 입력하시오: \")\n",
        "    num = input(\"몇개를 삭제하시겠습니까?: \")\n",
        "    items[item] = int(items[item]) - int(num)\n",
        "  else:\n",
        "    break"
      ],
      "metadata": {
        "colab": {
          "base_uri": "https://localhost:8080/"
        },
        "id": "kL--e_EpdAC0",
        "outputId": "da61871c-4762-4901-ee6c-cdfff7fa65ea"
      },
      "execution_count": 10,
      "outputs": [
        {
          "name": "stdout",
          "output_type": "stream",
          "text": [
            "\n",
            "# 재고 목록 #\n",
            "우유 1\n",
            "종이컵 2\n",
            "책 5\n",
            "커피음료 7\n",
            "콜라 4\n",
            "펜 3\n",
            "＼n*********************\n",
            "0. 종료\n",
            "1. 재고 추가\n",
            "2. 재고 삭제\n",
            "**********************＼n\n",
            "무엇을 하시겠습니까?: 0\n"
          ]
        }
      ]
    },
    {
      "cell_type": "code",
      "source": [
        "english_dict = dict()\n",
        "\n",
        "english_dict['하나'] = 'one'\n",
        "english_dict['둘'] = 'two'\n",
        "english_dict['셋'] = 'three'\n",
        "\n",
        "word = input(\"단어를 입력하시오: \")\n",
        "print(english_dict[word])"
      ],
      "metadata": {
        "colab": {
          "base_uri": "https://localhost:8080/"
        },
        "id": "f3Gqiwujdz3k",
        "outputId": "3fc86deb-006b-4410-e881-df37202e0767"
      },
      "execution_count": 12,
      "outputs": [
        {
          "output_type": "stream",
          "name": "stdout",
          "text": [
            "단어를 입력하시오: 하나\n",
            "one\n"
          ]
        }
      ]
    },
    {
      "cell_type": "code",
      "source": [
        ""
      ],
      "metadata": {
        "id": "o5kVSn7_gH6A"
      },
      "execution_count": 18,
      "outputs": []
    }
  ]
}