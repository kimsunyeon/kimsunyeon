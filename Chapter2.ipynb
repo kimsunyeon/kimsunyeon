{
  "nbformat": 4,
  "nbformat_minor": 0,
  "metadata": {
    "colab": {
      "name": "Untitled6.ipynb",
      "provenance": [],
      "authorship_tag": "ABX9TyPWg8CPA1CXFNlEAJWPrQc7",
      "include_colab_link": true
    },
    "kernelspec": {
      "name": "python3",
      "display_name": "Python 3"
    },
    "language_info": {
      "name": "python"
    }
  },
  "cells": [
    {
      "cell_type": "markdown",
      "metadata": {
        "id": "view-in-github",
        "colab_type": "text"
      },
      "source": [
        "<a href=\"https://colab.research.google.com/github/kimsunyeon/kimsunyeon/blob/main/Chapter2.ipynb\" target=\"_parent\"><img src=\"https://colab.research.google.com/assets/colab-badge.svg\" alt=\"Open In Colab\"/></a>"
      ]
    },
    {
      "cell_type": "code",
      "metadata": {
        "colab": {
          "base_uri": "https://localhost:8080/"
        },
        "id": "ydQ2ef6Ycau2",
        "outputId": "316c012c-6506-4a56-c97d-c90447c3f628"
      },
      "source": [
        "name = input(\"이름을 입력하시오: \")\n",
        "age = int(input(\"나이를 입력하시오: \"))\n",
        "year = 2021-age+100\n",
        "print(name+ \"씨는\" + str(year) + \"년에 100살이시네요!\")"
      ],
      "execution_count": 2,
      "outputs": [
        {
          "output_type": "stream",
          "name": "stdout",
          "text": [
            "이름을 입력하시오: 김수연\n",
            "나이를 입력하시오: 20\n",
            "김수연씨는2101년에 100살이시네요!\n"
          ]
        }
      ]
    },
    {
      "cell_type": "code",
      "metadata": {
        "colab": {
          "base_uri": "https://localhost:8080/"
        },
        "id": "p8dN4PaMd3JL",
        "outputId": "7afc7d5b-e154-4513-c910-dc4d4cb1e4e5"
      },
      "source": [
        "n1 = int(input(\"첫 번째 숫자를 입력하시오: \"))\n",
        "n2 = int(input(\"두 번째 숫자를 입력하시오: \"))\n",
        "n3 = int(input(\"세 번째 숫자를 입력하시오: \"))\n",
        "\n",
        "average = (n1 + n2 + n3) / 3\n",
        "\n",
        "print(n1, n2, n3, \"의 평균은\", average, \"입니다.\")"
      ],
      "execution_count": 3,
      "outputs": [
        {
          "output_type": "stream",
          "name": "stdout",
          "text": [
            "첫 번째 숫자를 입력하시오: 20\n",
            "두 번째 숫자를 입력하시오: 40\n",
            "세 번째 숫자를 입력하시오: 60\n",
            "20 40 60 의 평균은 40.0 입니다.\n"
          ]
        }
      ]
    },
    {
      "cell_type": "code",
      "metadata": {
        "colab": {
          "base_uri": "https://localhost:8080/"
        },
        "id": "-KnUbultegr7",
        "outputId": "2af5e51d-12af-49a8-c412-309940fd1932"
      },
      "source": [
        "radius = int(input(\"반지름을 입력하시오: \"))\n",
        "area = 3.141592 * radius * radius\n",
        "print(\"반지름이\", radius, \"인 원의 넓이 =\", area, \"입니다.\")"
      ],
      "execution_count": 6,
      "outputs": [
        {
          "output_type": "stream",
          "name": "stdout",
          "text": [
            "반지름을 입력하시오: 8\n",
            "반지름이 8 인 원의 넓이 = 201.061888 입니다.\n"
          ]
        }
      ]
    },
    {
      "cell_type": "code",
      "metadata": {
        "colab": {
          "base_uri": "https://localhost:8080/"
        },
        "id": "WLHbSFusfPL4",
        "outputId": "af0f15d6-01b0-43bb-8875-b6692bce23d6"
      },
      "source": [
        "x = int(input(\"첫 번째 정수를 입력하시오: \"))\n",
        "y = int(input(\"두 번째 정수를 입력하시오: \"))\n",
        "\n",
        "print(x, \" + \", y, \" = \", x+y)\n",
        "print(x, \" - \", y, \" = \", x-y)\n",
        "print(x, \" * \", y, \" = \", x*y)\n",
        "print(x, \" / \", y, \" = \", x/y)"
      ],
      "execution_count": 7,
      "outputs": [
        {
          "output_type": "stream",
          "name": "stdout",
          "text": [
            "첫 번째 정수를 입력하시오: 20\n",
            "두 번째 정수를 입력하시오: 5\n",
            "20  +  5  =  25\n",
            "20  -  5  =  15\n",
            "20  *  5  =  100\n",
            "20  /  5  =  4.0\n"
          ]
        }
      ]
    },
    {
      "cell_type": "code",
      "metadata": {
        "colab": {
          "base_uri": "https://localhost:8080/"
        },
        "id": "chTbbvqpgTqw",
        "outputId": "96f06690-4c87-4e2e-adf7-f81764ea66b3"
      },
      "source": [
        "name = input(\"이름을 입력하시오: \")\n",
        "print(name, \" 씨, 안녕하세요?\")\n",
        "print(\"파이썬에 오신 것을 환영합니다.\")\n",
        "x = int(input(\"첫 번째 정수를 입력하시오: \"))\n",
        "y = int(input(\"두 번째 정수를 입력하시오: \"))\n",
        "print(x, \" 과 \", y, \" 의 합은 \", x+y, \" 입니다.\")"
      ],
      "execution_count": 8,
      "outputs": [
        {
          "output_type": "stream",
          "name": "stdout",
          "text": [
            "이름을 입력하시오: 김수연\n",
            "김수연  씨, 안녕하세요?\n",
            "파이썬에 오신 것을 환영합니다.\n",
            "첫 번째 정수를 입력하시오: 10\n",
            "두 번째 정수를 입력하시오: 20\n",
            "10  과  20  의 합은  30  입니다.\n"
          ]
        }
      ]
    },
    {
      "cell_type": "code",
      "metadata": {
        "id": "_EyzxRxKg9BL"
      },
      "source": [
        ""
      ],
      "execution_count": null,
      "outputs": []
    }
  ]
}